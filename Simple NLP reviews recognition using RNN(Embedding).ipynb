{
  "nbformat": 4,
  "nbformat_minor": 0,
  "metadata": {
    "colab": {
      "name": "Simple NLP reviews recognition using RNN(Embedding).ipynb",
      "provenance": [],
      "collapsed_sections": []
    },
    "kernelspec": {
      "name": "python3",
      "display_name": "Python 3"
    },
    "language_info": {
      "name": "python"
    }
  },
  "cells": [
    {
      "cell_type": "code",
      "metadata": {
        "id": "bqr3ASw7v-eK"
      },
      "source": [
        "import numpy as np\n",
        "from tensorflow import keras"
      ],
      "execution_count": 63,
      "outputs": []
    },
    {
      "cell_type": "code",
      "metadata": {
        "id": "QevkZ5NrzHfK"
      },
      "source": [
        "reviews = ['nice food',\n",
        "           'amazing resturant',\n",
        "           'too good',\n",
        "           'just loved it!',\n",
        "           'will go again',\n",
        "           'horrible food',\n",
        "           'never go there again',\n",
        "           'poor service',\n",
        "           'poor quality',\n",
        "           'need improvement',\n",
        "           ]"
      ],
      "execution_count": 64,
      "outputs": []
    },
    {
      "cell_type": "code",
      "metadata": {
        "id": "83hGXuPmbSoQ"
      },
      "source": [
        "sentiment = np.array([1,1,1,1,1,0,0,0,0,0])"
      ],
      "execution_count": 65,
      "outputs": []
    },
    {
      "cell_type": "code",
      "metadata": {
        "id": "PwTFM2p0j7hD"
      },
      "source": [
        "voc_size = 500\n",
        "encoded_reviews = [keras.preprocessing.text.one_hot(i, voc_size) for i in reviews]"
      ],
      "execution_count": 66,
      "outputs": []
    },
    {
      "cell_type": "code",
      "metadata": {
        "colab": {
          "base_uri": "https://localhost:8080/"
        },
        "id": "IETg3zOykRqh",
        "outputId": "630acb61-0935-4864-8634-386429a9d34b"
      },
      "source": [
        "encoded_reviews"
      ],
      "execution_count": 67,
      "outputs": [
        {
          "output_type": "execute_result",
          "data": {
            "text/plain": [
              "[[265, 34],\n",
              " [197, 207],\n",
              " [483, 380],\n",
              " [242, 67, 117],\n",
              " [256, 355, 20],\n",
              " [362, 34],\n",
              " [466, 355, 244, 20],\n",
              " [407, 241],\n",
              " [407, 214],\n",
              " [266, 40]]"
            ]
          },
          "metadata": {},
          "execution_count": 67
        }
      ]
    },
    {
      "cell_type": "code",
      "metadata": {
        "id": "3EbXhvtMkTdg"
      },
      "source": [
        "max_length = 4\n",
        "embedded_reviews = keras.preprocessing.sequence.pad_sequences(encoded_reviews, maxlen = 4, padding = 'post')"
      ],
      "execution_count": 68,
      "outputs": []
    },
    {
      "cell_type": "code",
      "metadata": {
        "colab": {
          "base_uri": "https://localhost:8080/"
        },
        "id": "ERFpVhK3kzgp",
        "outputId": "834083c1-2ed0-4ee2-b3e0-49df85313840"
      },
      "source": [
        "embedded_reviews"
      ],
      "execution_count": 69,
      "outputs": [
        {
          "output_type": "execute_result",
          "data": {
            "text/plain": [
              "array([[265,  34,   0,   0],\n",
              "       [197, 207,   0,   0],\n",
              "       [483, 380,   0,   0],\n",
              "       [242,  67, 117,   0],\n",
              "       [256, 355,  20,   0],\n",
              "       [362,  34,   0,   0],\n",
              "       [466, 355, 244,  20],\n",
              "       [407, 241,   0,   0],\n",
              "       [407, 214,   0,   0],\n",
              "       [266,  40,   0,   0]], dtype=int32)"
            ]
          },
          "metadata": {},
          "execution_count": 69
        }
      ]
    },
    {
      "cell_type": "code",
      "metadata": {
        "id": "FDimqs-Ak0dJ"
      },
      "source": [
        "model = keras.Sequential()\n",
        "model.add(keras.layers.Embedding(voc_size, voc_size, input_length = max_length, name = 'embedding'))\n",
        "model.add(keras.layers.Flatten())\n",
        "model.add(keras.layers.Dense(1, activation='sigmoid'))"
      ],
      "execution_count": 70,
      "outputs": []
    },
    {
      "cell_type": "code",
      "metadata": {
        "id": "nrD30JVvlMF2"
      },
      "source": [
        "model.compile(\n",
        "    optimizer = 'adam',\n",
        "    loss = 'binary_crossentropy',\n",
        "    metrics = ['accuracy']\n",
        ")"
      ],
      "execution_count": 71,
      "outputs": []
    },
    {
      "cell_type": "code",
      "metadata": {
        "id": "BFkpZaTBrLwz"
      },
      "source": [
        "X = embedded_reviews\n",
        "y = sentiment"
      ],
      "execution_count": 72,
      "outputs": []
    },
    {
      "cell_type": "code",
      "metadata": {
        "colab": {
          "base_uri": "https://localhost:8080/"
        },
        "id": "RjLLVO4KrHZq",
        "outputId": "59184fb8-d982-405c-8ee5-85a884573a2a"
      },
      "source": [
        "model.fit(X, y, epochs=50)"
      ],
      "execution_count": 73,
      "outputs": [
        {
          "output_type": "stream",
          "name": "stdout",
          "text": [
            "Epoch 1/50\n",
            "1/1 [==============================] - 1s 712ms/step - loss: 0.6934 - accuracy: 0.5000\n",
            "Epoch 2/50\n",
            "1/1 [==============================] - 0s 11ms/step - loss: 0.6737 - accuracy: 0.9000\n",
            "Epoch 3/50\n",
            "1/1 [==============================] - 0s 11ms/step - loss: 0.6545 - accuracy: 1.0000\n",
            "Epoch 4/50\n",
            "1/1 [==============================] - 0s 11ms/step - loss: 0.6356 - accuracy: 1.0000\n",
            "Epoch 5/50\n",
            "1/1 [==============================] - 0s 13ms/step - loss: 0.6171 - accuracy: 1.0000\n",
            "Epoch 6/50\n",
            "1/1 [==============================] - 0s 8ms/step - loss: 0.5988 - accuracy: 1.0000\n",
            "Epoch 7/50\n",
            "1/1 [==============================] - 0s 10ms/step - loss: 0.5808 - accuracy: 1.0000\n",
            "Epoch 8/50\n",
            "1/1 [==============================] - 0s 13ms/step - loss: 0.5630 - accuracy: 1.0000\n",
            "Epoch 9/50\n",
            "1/1 [==============================] - 0s 20ms/step - loss: 0.5454 - accuracy: 1.0000\n",
            "Epoch 10/50\n",
            "1/1 [==============================] - 0s 12ms/step - loss: 0.5278 - accuracy: 1.0000\n",
            "Epoch 11/50\n",
            "1/1 [==============================] - 0s 11ms/step - loss: 0.5104 - accuracy: 1.0000\n",
            "Epoch 12/50\n",
            "1/1 [==============================] - 0s 11ms/step - loss: 0.4931 - accuracy: 1.0000\n",
            "Epoch 13/50\n",
            "1/1 [==============================] - 0s 8ms/step - loss: 0.4758 - accuracy: 1.0000\n",
            "Epoch 14/50\n",
            "1/1 [==============================] - 0s 7ms/step - loss: 0.4587 - accuracy: 1.0000\n",
            "Epoch 15/50\n",
            "1/1 [==============================] - 0s 12ms/step - loss: 0.4416 - accuracy: 1.0000\n",
            "Epoch 16/50\n",
            "1/1 [==============================] - 0s 10ms/step - loss: 0.4247 - accuracy: 1.0000\n",
            "Epoch 17/50\n",
            "1/1 [==============================] - 0s 14ms/step - loss: 0.4078 - accuracy: 1.0000\n",
            "Epoch 18/50\n",
            "1/1 [==============================] - 0s 18ms/step - loss: 0.3912 - accuracy: 1.0000\n",
            "Epoch 19/50\n",
            "1/1 [==============================] - 0s 14ms/step - loss: 0.3747 - accuracy: 1.0000\n",
            "Epoch 20/50\n",
            "1/1 [==============================] - 0s 16ms/step - loss: 0.3584 - accuracy: 1.0000\n",
            "Epoch 21/50\n",
            "1/1 [==============================] - 0s 11ms/step - loss: 0.3424 - accuracy: 1.0000\n",
            "Epoch 22/50\n",
            "1/1 [==============================] - 0s 11ms/step - loss: 0.3267 - accuracy: 1.0000\n",
            "Epoch 23/50\n",
            "1/1 [==============================] - 0s 10ms/step - loss: 0.3113 - accuracy: 1.0000\n",
            "Epoch 24/50\n",
            "1/1 [==============================] - 0s 12ms/step - loss: 0.2963 - accuracy: 1.0000\n",
            "Epoch 25/50\n",
            "1/1 [==============================] - 0s 15ms/step - loss: 0.2816 - accuracy: 1.0000\n",
            "Epoch 26/50\n",
            "1/1 [==============================] - 0s 9ms/step - loss: 0.2673 - accuracy: 1.0000\n",
            "Epoch 27/50\n",
            "1/1 [==============================] - 0s 10ms/step - loss: 0.2535 - accuracy: 1.0000\n",
            "Epoch 28/50\n",
            "1/1 [==============================] - 0s 11ms/step - loss: 0.2402 - accuracy: 1.0000\n",
            "Epoch 29/50\n",
            "1/1 [==============================] - 0s 10ms/step - loss: 0.2273 - accuracy: 1.0000\n",
            "Epoch 30/50\n",
            "1/1 [==============================] - 0s 11ms/step - loss: 0.2149 - accuracy: 1.0000\n",
            "Epoch 31/50\n",
            "1/1 [==============================] - 0s 8ms/step - loss: 0.2030 - accuracy: 1.0000\n",
            "Epoch 32/50\n",
            "1/1 [==============================] - 0s 8ms/step - loss: 0.1917 - accuracy: 1.0000\n",
            "Epoch 33/50\n",
            "1/1 [==============================] - 0s 8ms/step - loss: 0.1808 - accuracy: 1.0000\n",
            "Epoch 34/50\n",
            "1/1 [==============================] - 0s 9ms/step - loss: 0.1705 - accuracy: 1.0000\n",
            "Epoch 35/50\n",
            "1/1 [==============================] - 0s 8ms/step - loss: 0.1607 - accuracy: 1.0000\n",
            "Epoch 36/50\n",
            "1/1 [==============================] - 0s 15ms/step - loss: 0.1515 - accuracy: 1.0000\n",
            "Epoch 37/50\n",
            "1/1 [==============================] - 0s 14ms/step - loss: 0.1427 - accuracy: 1.0000\n",
            "Epoch 38/50\n",
            "1/1 [==============================] - 0s 13ms/step - loss: 0.1344 - accuracy: 1.0000\n",
            "Epoch 39/50\n",
            "1/1 [==============================] - 0s 14ms/step - loss: 0.1265 - accuracy: 1.0000\n",
            "Epoch 40/50\n",
            "1/1 [==============================] - 0s 15ms/step - loss: 0.1191 - accuracy: 1.0000\n",
            "Epoch 41/50\n",
            "1/1 [==============================] - 0s 15ms/step - loss: 0.1122 - accuracy: 1.0000\n",
            "Epoch 42/50\n",
            "1/1 [==============================] - 0s 11ms/step - loss: 0.1057 - accuracy: 1.0000\n",
            "Epoch 43/50\n",
            "1/1 [==============================] - 0s 16ms/step - loss: 0.0996 - accuracy: 1.0000\n",
            "Epoch 44/50\n",
            "1/1 [==============================] - 0s 15ms/step - loss: 0.0938 - accuracy: 1.0000\n",
            "Epoch 45/50\n",
            "1/1 [==============================] - 0s 12ms/step - loss: 0.0885 - accuracy: 1.0000\n",
            "Epoch 46/50\n",
            "1/1 [==============================] - 0s 12ms/step - loss: 0.0834 - accuracy: 1.0000\n",
            "Epoch 47/50\n",
            "1/1 [==============================] - 0s 20ms/step - loss: 0.0787 - accuracy: 1.0000\n",
            "Epoch 48/50\n",
            "1/1 [==============================] - 0s 10ms/step - loss: 0.0743 - accuracy: 1.0000\n",
            "Epoch 49/50\n",
            "1/1 [==============================] - 0s 10ms/step - loss: 0.0702 - accuracy: 1.0000\n",
            "Epoch 50/50\n",
            "1/1 [==============================] - 0s 11ms/step - loss: 0.0664 - accuracy: 1.0000\n"
          ]
        },
        {
          "output_type": "execute_result",
          "data": {
            "text/plain": [
              "<keras.callbacks.History at 0x7f402b5524d0>"
            ]
          },
          "metadata": {},
          "execution_count": 73
        }
      ]
    },
    {
      "cell_type": "code",
      "metadata": {
        "colab": {
          "base_uri": "https://localhost:8080/"
        },
        "id": "VmG2LPifrPOQ",
        "outputId": "595a5a19-7f44-4f69-8988-29e6187115e9"
      },
      "source": [
        "model.evaluate(X, y)"
      ],
      "execution_count": 74,
      "outputs": [
        {
          "output_type": "stream",
          "name": "stdout",
          "text": [
            "1/1 [==============================] - 0s 138ms/step - loss: 0.0628 - accuracy: 1.0000\n"
          ]
        },
        {
          "output_type": "execute_result",
          "data": {
            "text/plain": [
              "[0.06276367604732513, 1.0]"
            ]
          },
          "metadata": {},
          "execution_count": 74
        }
      ]
    },
    {
      "cell_type": "code",
      "metadata": {
        "id": "RwydZEZXsCXY"
      },
      "source": [
        "temp_reviews = [\n",
        "           'horrible resturant',\n",
        "           'this is so bad',\n",
        "           'i will not go there again',\n",
        "           'very high quality',\n",
        "           'need some improvement',\n",
        "           'not a good food at all',\n",
        "           'amazing resturant',\n",
        "           'too good',\n",
        "           'just loved it!',\n",
        "           'fantastic resturant',\n",
        "           ]"
      ],
      "execution_count": 123,
      "outputs": []
    },
    {
      "cell_type": "code",
      "metadata": {
        "id": "eDKkI-vWr0ky"
      },
      "source": [
        "temp_encoded = [keras.preprocessing.text.one_hot(i, 500)for i in temp_reviews]\n",
        "temp_embedded = keras.preprocessing.sequence.pad_sequences(temp_encoded,maxlen = 4, padding = 'post' )"
      ],
      "execution_count": 124,
      "outputs": []
    },
    {
      "cell_type": "code",
      "metadata": {
        "colab": {
          "base_uri": "https://localhost:8080/"
        },
        "id": "BMCAyteTr5An",
        "outputId": "a7fc303e-746a-4977-925d-54aee653be50"
      },
      "source": [
        "model.predict(temp_embedded)"
      ],
      "execution_count": 125,
      "outputs": [
        {
          "output_type": "execute_result",
          "data": {
            "text/plain": [
              "array([[0.40400535],\n",
              "       [0.46439973],\n",
              "       [0.1038523 ],\n",
              "       [0.7097381 ],\n",
              "       [0.3352797 ],\n",
              "       [0.50978863],\n",
              "       [0.94488746],\n",
              "       [0.952028  ],\n",
              "       [0.988752  ],\n",
              "       [0.78977156]], dtype=float32)"
            ]
          },
          "metadata": {},
          "execution_count": 125
        }
      ]
    },
    {
      "cell_type": "code",
      "metadata": {
        "id": "QIDWIcR8tA_g"
      },
      "source": [
        ""
      ],
      "execution_count": 89,
      "outputs": []
    }
  ]
}